{
 "cells": [
  {
   "cell_type": "markdown",
   "id": "812a3bf1-51a7-4fb4-9ff7-6ab4e68fe1c0",
   "metadata": {},
   "source": [
    "# Iris Dataset\n"
   ]
  },
  {
   "cell_type": "markdown",
   "id": "5b0d59b6-5339-486d-808d-271ce71d3145",
   "metadata": {},
   "source": [
    "## Importar bibliotecas"
   ]
  },
  {
   "cell_type": "code",
   "execution_count": 5,
   "id": "ca045bb5-67ab-4d9f-9df1-556ff2f069db",
   "metadata": {},
   "outputs": [],
   "source": [
    "import pandas as pd                                    \n",
    "from sklearn.model_selection import train_test_split   \n",
    "from sklearn.impute import SimpleImputer               \n",
    "from sklearn.preprocessing import StandardScaler       \n",
    "from sklearn.pipeline import Pipeline                  \n",
    "from sklearn.compose import ColumnTransformer "
   ]
  },
  {
   "cell_type": "markdown",
   "id": "d31b3667-a4b6-43ad-a18d-b1f6357a0a9e",
   "metadata": {},
   "source": [
    "## Importar dataset"
   ]
  },
  {
   "cell_type": "code",
   "execution_count": 6,
   "id": "62a012b6-2549-42d4-8f63-2a246ed122d0",
   "metadata": {},
   "outputs": [],
   "source": [
    "from sklearn.datasets import load_iris \n",
    "iris = load_iris()                                     \n",
    " "
   ]
  },
  {
   "cell_type": "markdown",
   "id": "a31753d2-6623-43d6-a66c-a899b7188eb1",
   "metadata": {},
   "source": [
    "### Observações\n"
   ]
  },
  {
   "cell_type": "code",
   "execution_count": 7,
   "id": "c13c2f13-3c5b-47a6-a9dc-32b46115234f",
   "metadata": {
    "scrolled": true
   },
   "outputs": [
    {
     "name": "stdout",
     "output_type": "stream",
     "text": [
      "Shape: (150, 5)\n",
      "   sepal length (cm)  sepal width (cm)  petal length (cm)  petal width (cm)  \\\n",
      "0                5.1               3.5                1.4               0.2   \n",
      "1                4.9               3.0                1.4               0.2   \n",
      "2                4.7               3.2                1.3               0.2   \n",
      "3                4.6               3.1                1.5               0.2   \n",
      "4                5.0               3.6                1.4               0.2   \n",
      "\n",
      "   target  \n",
      "0       0  \n",
      "1       0  \n",
      "2       0  \n",
      "3       0  \n",
      "4       0  \n"
     ]
    }
   ],
   "source": [
    "df = pd.DataFrame(iris.data, columns=iris.feature_names)  \n",
    "df['target'] = iris.target\n",
    "print(\"Shape:\", df.shape)                              \n",
    "print(df.head())  "
   ]
  },
  {
   "cell_type": "markdown",
   "id": "98a940f7-d8f2-4b94-bab5-0914e836e4ef",
   "metadata": {},
   "source": [
    "#### Verificação de valores faltantes ( não é o caso, mas é bom conferir)\n"
   ]
  },
  {
   "cell_type": "code",
   "execution_count": 8,
   "id": "fa7ee7f0-56cd-448a-a1b4-405fae735364",
   "metadata": {},
   "outputs": [
    {
     "name": "stdout",
     "output_type": "stream",
     "text": [
      "Missing per column:\n",
      " sepal length (cm)    0\n",
      "sepal width (cm)     0\n",
      "petal length (cm)    0\n",
      "petal width (cm)     0\n",
      "target               0\n",
      "dtype: int64\n"
     ]
    }
   ],
   "source": [
    "print(\"Missing per column:\\n\", df.isnull().sum())"
   ]
  },
  {
   "cell_type": "code",
   "execution_count": 9,
   "id": "7de8d937-274d-45cc-9b51-98e66420e4f4",
   "metadata": {},
   "outputs": [],
   "source": [
    "X = df.drop('target', axis=1) \n",
    "y = df['target'] "
   ]
  },
  {
   "cell_type": "markdown",
   "id": "5e36220e-dcfc-4fc4-bd7b-140a42b06f3a",
   "metadata": {},
   "source": [
    "## Divisão de grupo de treino e teste"
   ]
  },
  {
   "cell_type": "code",
   "execution_count": 11,
   "id": "1f8246cf-99d9-453a-b5f2-125688691e90",
   "metadata": {},
   "outputs": [],
   "source": [
    "X_train, X_test, y_train, y_test = train_test_split(   \n",
    "    X, y, test_size=0.2, random_state=42, stratify=y\n",
    ")"
   ]
  },
  {
   "cell_type": "markdown",
   "id": "a1adfcfb-eb66-4c0a-9fe3-9454f5433adf",
   "metadata": {},
   "source": [
    "### Pipeline de pré-processamento: imputar valores faltantes (média) e padronizar"
   ]
  },
  {
   "cell_type": "code",
   "execution_count": 13,
   "id": "19e8c918-51a2-47b7-97c6-c5bdc2156f98",
   "metadata": {},
   "outputs": [],
   "source": [
    "numeric_transformer = Pipeline( steps=[ ('imputer', SimpleImputer(strategy='mean')),('scaler', StandardScaler()) ])"
   ]
  },
  {
   "cell_type": "markdown",
   "id": "d7db1475-2c97-437c-bef1-7a65bda2e189",
   "metadata": {},
   "source": [
    "### Aplicação de transformer nas colunas de X"
   ]
  },
  {
   "cell_type": "code",
   "execution_count": 14,
   "id": "38e9e76c-a5f2-4b8d-8d9e-784f6881b3ef",
   "metadata": {},
   "outputs": [],
   "source": [
    "preprocessor = ColumnTransformer(transformers=[('num', numeric_transformer, X.columns)])"
   ]
  },
  {
   "cell_type": "markdown",
   "id": "8d2484bf-072e-4fb2-b24e-58f88a3af0da",
   "metadata": {},
   "source": [
    "### Ajustes em treino e trasformação de  treino em teste"
   ]
  },
  {
   "cell_type": "code",
   "execution_count": 15,
   "id": "c87fd43f-c462-475c-acb8-ddcbbed3dd64",
   "metadata": {},
   "outputs": [],
   "source": [
    "X_train_processed = preprocessor.fit_transform(X_train) \n",
    "X_test_processed = preprocessor.transform(X_test) "
   ]
  },
  {
   "cell_type": "code",
   "execution_count": 16,
   "id": "36e71238-9c41-411e-9973-3add34a645b3",
   "metadata": {},
   "outputs": [
    {
     "name": "stdout",
     "output_type": "stream",
     "text": [
      "X_train_processed shape: (120, 4)\n"
     ]
    }
   ],
   "source": [
    "print(\"X_train_processed shape:\", X_train_processed.shape)"
   ]
  },
  {
   "cell_type": "code",
   "execution_count": null,
   "id": "b0e08b3e-79d6-4846-9cea-3c46b2728afa",
   "metadata": {},
   "outputs": [],
   "source": []
  }
 ],
 "metadata": {
  "kernelspec": {
   "display_name": "Python [conda env:base] *",
   "language": "python",
   "name": "conda-base-py"
  },
  "language_info": {
   "codemirror_mode": {
    "name": "ipython",
    "version": 3
   },
   "file_extension": ".py",
   "mimetype": "text/x-python",
   "name": "python",
   "nbconvert_exporter": "python",
   "pygments_lexer": "ipython3",
   "version": "3.13.5"
  }
 },
 "nbformat": 4,
 "nbformat_minor": 5
}
